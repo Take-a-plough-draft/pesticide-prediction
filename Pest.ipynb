{
  "nbformat": 4,
  "nbformat_minor": 0,
  "metadata": {
    "colab": {
      "name": "Pest.ipynb",
      "provenance": [],
      "collapsed_sections": []
    },
    "kernelspec": {
      "name": "python3",
      "display_name": "Python 3"
    },
    "language_info": {
      "name": "python"
    }
  },
  "cells": [
    {
      "cell_type": "code",
      "execution_count": 1,
      "metadata": {
        "id": "VXJh14PNQguo",
        "colab": {
          "base_uri": "https://localhost:8080/"
        },
        "outputId": "24129314-4ef9-4f22-b507-cac1247c52db"
      },
      "outputs": [
        {
          "output_type": "stream",
          "name": "stdout",
          "text": [
            "Mounted at /content/drive\n"
          ]
        }
      ],
      "source": [
        "from google.colab import drive\n",
        "drive.mount('/content/drive',force_remount=True)"
      ]
    },
    {
      "cell_type": "code",
      "source": [
        "import pandas as pd\n",
        "crop = pd.read_csv('/content/drive/MyDrive/crop_recommendation.csv')\n",
        "X = crop.iloc[:,:-1].values\n",
        "Y = crop.iloc[:,-1].values"
      ],
      "metadata": {
        "id": "4SdoruSuSR1F"
      },
      "execution_count": 2,
      "outputs": []
    },
    {
      "cell_type": "code",
      "source": [
        "from sklearn.model_selection import train_test_split\n",
        "from sklearn.svm import SVC\n",
        "from sklearn.naive_bayes import GaussianNB\n",
        "from sklearn.ensemble import RandomForestClassifier, VotingClassifier\n",
        "from sklearn.neighbors import KNeighborsClassifier\n",
        "from sklearn.metrics import accuracy_score\n",
        "from sklearn import model_selection"
      ],
      "metadata": {
        "id": "aZGD4EYXSyF1"
      },
      "execution_count": 3,
      "outputs": []
    },
    {
      "cell_type": "code",
      "source": [
        "X_train, X_test, y_train, y_test = train_test_split(X, Y, test_size = 0.30)"
      ],
      "metadata": {
        "id": "67xfFb7cS5nQ"
      },
      "execution_count": 4,
      "outputs": []
    },
    {
      "cell_type": "code",
      "source": [
        "models = []\n",
        "models.append(('SVC', SVC(gamma ='auto', probability = True)))\n",
        "models.append(('svm1', SVC(probability=True, kernel='poly', degree=1)))\n",
        "models.append(('svm2', SVC(probability=True, kernel='poly', degree=2)))\n",
        "models.append(('svm3', SVC(probability=True, kernel='poly', degree=3)))\n",
        "models.append(('svm4', SVC(probability=True, kernel='poly', degree=4)))\n",
        "models.append(('svm5', SVC(probability=True, kernel='poly', degree=5)))\n",
        "models.append(('rf',RandomForestClassifier(n_estimators = 21)))\n",
        "models.append(('gnb',GaussianNB()))\n",
        "models.append(('knn1', KNeighborsClassifier(n_neighbors=1)))\n",
        "models.append(('knn3', KNeighborsClassifier(n_neighbors=3)))\n",
        "models.append(('knn5', KNeighborsClassifier(n_neighbors=5)))\n",
        "models.append(('knn7', KNeighborsClassifier(n_neighbors=7)))\n",
        "models.append(('knn9', KNeighborsClassifier(n_neighbors=9)))"
      ],
      "metadata": {
        "id": "tG3PCtiITDog"
      },
      "execution_count": 5,
      "outputs": []
    },
    {
      "cell_type": "code",
      "source": [
        "vot_soft = VotingClassifier(estimators=models, voting='soft')\n",
        "vot_soft.fit(X_train, y_train)\n",
        "y_pred = vot_soft.predict(X_test)"
      ],
      "metadata": {
        "id": "5QNOgnkQTE9B"
      },
      "execution_count": 6,
      "outputs": []
    },
    {
      "cell_type": "code",
      "source": [
        "scores = model_selection.cross_val_score(vot_soft, X_test, y_test,cv=5,scoring='accuracy')\n",
        "print(\"Accuracy: \",scores.mean())"
      ],
      "metadata": {
        "id": "16PnFdFZTNMx",
        "colab": {
          "base_uri": "https://localhost:8080/"
        },
        "outputId": "243036b6-b1b1-4fdb-ec6e-363a7dc7f70c"
      },
      "execution_count": 7,
      "outputs": [
        {
          "output_type": "stream",
          "name": "stdout",
          "text": [
            "Accuracy:  0.9863636363636363\n"
          ]
        }
      ]
    },
    {
      "cell_type": "code",
      "source": [
        "score = accuracy_score(y_test, y_pred)\n",
        "print(\"Voting Score % d\" % score)"
      ],
      "metadata": {
        "id": "LCPuAO8pTSnZ",
        "colab": {
          "base_uri": "https://localhost:8080/"
        },
        "outputId": "e4c50d40-c390-4147-99d3-a59fa433bcd5"
      },
      "execution_count": 8,
      "outputs": [
        {
          "output_type": "stream",
          "name": "stdout",
          "text": [
            "Voting Score  0\n"
          ]
        }
      ]
    },
    {
      "cell_type": "markdown",
      "source": [
        "### CNN model\n"
      ],
      "metadata": {
        "id": "lWJHBTu8Uaw3"
      }
    },
    {
      "cell_type": "code",
      "source": [
        "#importing the Keras libraries and packages\n",
        "from keras.models import Sequential\n",
        "from keras.layers import Convolution2D\n",
        "from keras.layers import MaxPooling2D\n",
        "from keras.layers import Flatten\n",
        "from keras.layers import Dense, Dropout\n",
        "from keras import optimizers"
      ],
      "metadata": {
        "id": "6_uJi7HqUaAH"
      },
      "execution_count": 9,
      "outputs": []
    },
    {
      "cell_type": "code",
      "source": [
        "# Initialing the CNN\n",
        "classifier = Sequential()\n",
        "\n",
        "# Step 1 - Convolution Layer\n",
        "classifier.add(Convolution2D(32, 3,  3, input_shape = (64, 64, 3), activation = 'relu'))\n",
        "\n",
        "#step 2 - Pooling\n",
        "classifier.add(MaxPooling2D(pool_size =(2,2)))\n",
        "\n",
        "# Adding second convolution layer\n",
        "classifier.add(Convolution2D(32, 3,  3, activation = 'relu'))\n",
        "classifier.add(MaxPooling2D(pool_size =(2,2)))\n",
        "\n",
        "\n",
        "#Step 3 - Flattening\n",
        "classifier.add(Flatten())\n",
        "\n",
        "#Step 4 - Full Connection\n",
        "classifier.add(Dense(256, activation = 'relu'))\n",
        "classifier.add(Dropout(0.5))\n",
        "classifier.add(Dense(10, activation = 'softmax'))"
      ],
      "metadata": {
        "id": "7sQLT4fTVYfH"
      },
      "execution_count": 10,
      "outputs": []
    },
    {
      "cell_type": "code",
      "source": [
        "#Compiling The CNN\n",
        "classifier.compile(\n",
        "              optimizer = 'adam',\n",
        "              loss = 'categorical_crossentropy',\n",
        "              metrics = ['accuracy'])"
      ],
      "metadata": {
        "id": "3__6Gg5NXySc"
      },
      "execution_count": 11,
      "outputs": []
    },
    {
      "cell_type": "code",
      "source": [
        "#Part 2 Fittting the CNN to the image\n",
        "from keras.preprocessing.image import ImageDataGenerator\n",
        "train_datagen = ImageDataGenerator(\n",
        "        rescale=1./255,\n",
        "        shear_range=0.2,\n",
        "        zoom_range=0.2,\n",
        "        horizontal_flip=True)"
      ],
      "metadata": {
        "id": "pgfVkfwcYca1"
      },
      "execution_count": 12,
      "outputs": []
    },
    {
      "cell_type": "code",
      "source": [
        "test_datagen = ImageDataGenerator(rescale=1./255)\n",
        "\n",
        "training_set = train_datagen.flow_from_directory(\n",
        "        '/content/drive/MyDrive/train',\n",
        "        target_size=(64, 64),\n",
        "        batch_size=32,\n",
        "        class_mode='categorical')\n",
        "\n",
        "test_set = test_datagen.flow_from_directory(\n",
        "        '/content/drive/MyDrive/test',\n",
        "        target_size=(64, 64),\n",
        "        batch_size=32,\n",
        "        class_mode='categorical')\n",
        "\n",
        "model = classifier.fit(\n",
        "        training_set,\n",
        "        steps_per_epoch=50,\n",
        "        epochs=100,\n",
        "        validation_data = test_set,\n",
        "        validation_steps = 6500\n",
        "      )"
      ],
      "metadata": {
        "id": "l0SLjdXoYpdx",
        "colab": {
          "base_uri": "https://localhost:8080/"
        },
        "outputId": "5f54118c-76d3-4d9b-c42d-e182847e397b"
      },
      "execution_count": 15,
      "outputs": [
        {
          "output_type": "stream",
          "name": "stdout",
          "text": [
            "Found 3001 images belonging to 10 classes.\n",
            "Found 500 images belonging to 10 classes.\n",
            "Epoch 1/100\n",
            "50/50 [==============================] - ETA: 0s - loss: 1.3515 - accuracy: 0.5235WARNING:tensorflow:Your input ran out of data; interrupting training. Make sure that your dataset or generator can generate at least `steps_per_epoch * epochs` batches (in this case, 6500 batches). You may need to use the repeat() function when building your dataset.\n",
            "50/50 [==============================] - 11s 220ms/step - loss: 1.3515 - accuracy: 0.5235 - val_loss: 1.3157 - val_accuracy: 0.5260\n",
            "Epoch 2/100\n",
            "50/50 [==============================] - 8s 162ms/step - loss: 1.3635 - accuracy: 0.5163\n",
            "Epoch 3/100\n",
            "50/50 [==============================] - 8s 162ms/step - loss: 1.3182 - accuracy: 0.5323\n",
            "Epoch 4/100\n",
            "50/50 [==============================] - 8s 166ms/step - loss: 1.3419 - accuracy: 0.5381\n",
            "Epoch 5/100\n",
            "50/50 [==============================] - 8s 163ms/step - loss: 1.3489 - accuracy: 0.5304\n",
            "Epoch 6/100\n",
            "50/50 [==============================] - 8s 154ms/step - loss: 1.3384 - accuracy: 0.5231\n",
            "Epoch 7/100\n",
            "50/50 [==============================] - 8s 162ms/step - loss: 1.3197 - accuracy: 0.5468\n",
            "Epoch 8/100\n",
            "50/50 [==============================] - 8s 166ms/step - loss: 1.2775 - accuracy: 0.5337\n",
            "Epoch 9/100\n",
            "50/50 [==============================] - 8s 160ms/step - loss: 1.2705 - accuracy: 0.5461\n",
            "Epoch 10/100\n",
            "50/50 [==============================] - 8s 168ms/step - loss: 1.2944 - accuracy: 0.5425\n",
            "Epoch 11/100\n",
            "50/50 [==============================] - 8s 155ms/step - loss: 1.3345 - accuracy: 0.5075\n",
            "Epoch 12/100\n",
            "50/50 [==============================] - 8s 164ms/step - loss: 1.2517 - accuracy: 0.5574\n",
            "Epoch 13/100\n",
            "50/50 [==============================] - 8s 160ms/step - loss: 1.2342 - accuracy: 0.5593\n",
            "Epoch 14/100\n",
            "50/50 [==============================] - 8s 168ms/step - loss: 1.2786 - accuracy: 0.5312\n",
            "Epoch 15/100\n",
            "50/50 [==============================] - 8s 168ms/step - loss: 1.2883 - accuracy: 0.5417\n",
            "Epoch 16/100\n",
            "50/50 [==============================] - 8s 160ms/step - loss: 1.2553 - accuracy: 0.5531\n",
            "Epoch 17/100\n",
            "50/50 [==============================] - 8s 164ms/step - loss: 1.1919 - accuracy: 0.5832\n",
            "Epoch 18/100\n",
            "50/50 [==============================] - 8s 164ms/step - loss: 1.2067 - accuracy: 0.5700\n",
            "Epoch 19/100\n",
            "50/50 [==============================] - 8s 163ms/step - loss: 1.2127 - accuracy: 0.5619\n",
            "Epoch 20/100\n",
            "50/50 [==============================] - 9s 171ms/step - loss: 1.2126 - accuracy: 0.5719\n",
            "Epoch 21/100\n",
            "50/50 [==============================] - 8s 167ms/step - loss: 1.2367 - accuracy: 0.5487\n",
            "Epoch 22/100\n",
            "50/50 [==============================] - 9s 171ms/step - loss: 1.2114 - accuracy: 0.5719\n",
            "Epoch 23/100\n",
            "50/50 [==============================] - 8s 160ms/step - loss: 1.1580 - accuracy: 0.5938\n",
            "Epoch 24/100\n",
            "50/50 [==============================] - 9s 172ms/step - loss: 1.1531 - accuracy: 0.5881\n",
            "Epoch 25/100\n",
            "50/50 [==============================] - 9s 172ms/step - loss: 1.1488 - accuracy: 0.5919\n",
            "Epoch 26/100\n",
            "50/50 [==============================] - 8s 165ms/step - loss: 1.1961 - accuracy: 0.5706\n",
            "Epoch 27/100\n",
            "50/50 [==============================] - 8s 162ms/step - loss: 1.1748 - accuracy: 0.5813\n",
            "Epoch 28/100\n",
            "50/50 [==============================] - 8s 164ms/step - loss: 1.1610 - accuracy: 0.5775\n",
            "Epoch 29/100\n",
            "50/50 [==============================] - 8s 156ms/step - loss: 1.1892 - accuracy: 0.5831\n",
            "Epoch 30/100\n",
            "50/50 [==============================] - 8s 167ms/step - loss: 1.1877 - accuracy: 0.5669\n",
            "Epoch 31/100\n",
            "50/50 [==============================] - 8s 162ms/step - loss: 1.1107 - accuracy: 0.5938\n",
            "Epoch 32/100\n",
            "50/50 [==============================] - 8s 164ms/step - loss: 1.1018 - accuracy: 0.6152\n",
            "Epoch 33/100\n",
            "50/50 [==============================] - 8s 164ms/step - loss: 1.1322 - accuracy: 0.5800\n",
            "Epoch 34/100\n",
            "50/50 [==============================] - 8s 164ms/step - loss: 1.1085 - accuracy: 0.6001\n",
            "Epoch 35/100\n",
            "50/50 [==============================] - 8s 162ms/step - loss: 1.1650 - accuracy: 0.5869\n",
            "Epoch 36/100\n",
            "50/50 [==============================] - 8s 160ms/step - loss: 1.1195 - accuracy: 0.6031\n",
            "Epoch 37/100\n",
            "50/50 [==============================] - 8s 167ms/step - loss: 1.1447 - accuracy: 0.5975\n",
            "Epoch 38/100\n",
            "50/50 [==============================] - 8s 164ms/step - loss: 1.0756 - accuracy: 0.6139\n",
            "Epoch 39/100\n",
            "50/50 [==============================] - 8s 158ms/step - loss: 1.0870 - accuracy: 0.6144\n",
            "Epoch 40/100\n",
            "50/50 [==============================] - 9s 177ms/step - loss: 1.1110 - accuracy: 0.6181\n",
            "Epoch 41/100\n",
            "50/50 [==============================] - 8s 163ms/step - loss: 1.1005 - accuracy: 0.6050\n",
            "Epoch 42/100\n",
            "50/50 [==============================] - 9s 171ms/step - loss: 1.0673 - accuracy: 0.6164\n",
            "Epoch 43/100\n",
            "50/50 [==============================] - 9s 179ms/step - loss: 1.0617 - accuracy: 0.6271\n",
            "Epoch 44/100\n",
            "50/50 [==============================] - 9s 170ms/step - loss: 1.0875 - accuracy: 0.6127\n",
            "Epoch 45/100\n",
            "50/50 [==============================] - 8s 167ms/step - loss: 1.0786 - accuracy: 0.6256\n",
            "Epoch 46/100\n",
            "50/50 [==============================] - 8s 169ms/step - loss: 1.0981 - accuracy: 0.6012\n",
            "Epoch 47/100\n",
            "50/50 [==============================] - 8s 166ms/step - loss: 1.0658 - accuracy: 0.6164\n",
            "Epoch 48/100\n",
            "50/50 [==============================] - 9s 172ms/step - loss: 1.0517 - accuracy: 0.6438\n",
            "Epoch 49/100\n",
            "50/50 [==============================] - 8s 168ms/step - loss: 1.0429 - accuracy: 0.6303\n",
            "Epoch 50/100\n",
            "50/50 [==============================] - 8s 167ms/step - loss: 1.0426 - accuracy: 0.6246\n",
            "Epoch 51/100\n",
            "50/50 [==============================] - 8s 166ms/step - loss: 1.0344 - accuracy: 0.6428\n",
            "Epoch 52/100\n",
            "50/50 [==============================] - 8s 167ms/step - loss: 1.0603 - accuracy: 0.6277\n",
            "Epoch 53/100\n",
            "50/50 [==============================] - 9s 170ms/step - loss: 1.0284 - accuracy: 0.6497\n",
            "Epoch 54/100\n",
            "50/50 [==============================] - 8s 170ms/step - loss: 1.0266 - accuracy: 0.6369\n",
            "Epoch 55/100\n",
            "50/50 [==============================] - 9s 173ms/step - loss: 1.0213 - accuracy: 0.6265\n",
            "Epoch 56/100\n",
            "50/50 [==============================] - 8s 162ms/step - loss: 1.0172 - accuracy: 0.6309\n",
            "Epoch 57/100\n",
            "50/50 [==============================] - 9s 172ms/step - loss: 1.0123 - accuracy: 0.6356\n",
            "Epoch 58/100\n",
            "50/50 [==============================] - 9s 179ms/step - loss: 1.0493 - accuracy: 0.6275\n",
            "Epoch 59/100\n",
            "50/50 [==============================] - 9s 180ms/step - loss: 0.9922 - accuracy: 0.6519\n",
            "Epoch 60/100\n",
            "50/50 [==============================] - 8s 170ms/step - loss: 0.9519 - accuracy: 0.6579\n",
            "Epoch 61/100\n",
            "50/50 [==============================] - 9s 174ms/step - loss: 0.9818 - accuracy: 0.6475\n",
            "Epoch 62/100\n",
            "50/50 [==============================] - 9s 177ms/step - loss: 0.9851 - accuracy: 0.6585\n",
            "Epoch 63/100\n",
            "50/50 [==============================] - 9s 178ms/step - loss: 0.9978 - accuracy: 0.6394\n",
            "Epoch 64/100\n",
            "50/50 [==============================] - 9s 177ms/step - loss: 0.9563 - accuracy: 0.6761\n",
            "Epoch 65/100\n",
            "50/50 [==============================] - 9s 171ms/step - loss: 0.9305 - accuracy: 0.6723\n",
            "Epoch 66/100\n",
            "50/50 [==============================] - 8s 169ms/step - loss: 0.9655 - accuracy: 0.6606\n",
            "Epoch 67/100\n",
            "50/50 [==============================] - 9s 172ms/step - loss: 0.9962 - accuracy: 0.6481\n",
            "Epoch 68/100\n",
            "50/50 [==============================] - 8s 170ms/step - loss: 0.9599 - accuracy: 0.6579\n",
            "Epoch 69/100\n",
            "50/50 [==============================] - 8s 169ms/step - loss: 0.9651 - accuracy: 0.6635\n",
            "Epoch 70/100\n",
            "50/50 [==============================] - 9s 174ms/step - loss: 0.9267 - accuracy: 0.6767\n",
            "Epoch 71/100\n",
            "50/50 [==============================] - 9s 177ms/step - loss: 0.9620 - accuracy: 0.6488\n",
            "Epoch 72/100\n",
            "50/50 [==============================] - 9s 176ms/step - loss: 0.9391 - accuracy: 0.6569\n",
            "Epoch 73/100\n",
            "50/50 [==============================] - 9s 178ms/step - loss: 0.9711 - accuracy: 0.6604\n",
            "Epoch 74/100\n",
            "50/50 [==============================] - 8s 164ms/step - loss: 0.9507 - accuracy: 0.6600\n",
            "Epoch 75/100\n",
            "50/50 [==============================] - 8s 167ms/step - loss: 0.9334 - accuracy: 0.6522\n",
            "Epoch 76/100\n",
            "50/50 [==============================] - 9s 170ms/step - loss: 0.9411 - accuracy: 0.6712\n",
            "Epoch 77/100\n",
            "50/50 [==============================] - 8s 165ms/step - loss: 0.9352 - accuracy: 0.6650\n",
            "Epoch 78/100\n",
            "50/50 [==============================] - 8s 161ms/step - loss: 0.8723 - accuracy: 0.6911\n",
            "Epoch 79/100\n",
            "50/50 [==============================] - 9s 169ms/step - loss: 0.9035 - accuracy: 0.6787\n",
            "Epoch 80/100\n",
            "50/50 [==============================] - 8s 165ms/step - loss: 0.8889 - accuracy: 0.6817\n",
            "Epoch 81/100\n",
            "50/50 [==============================] - 9s 172ms/step - loss: 0.9581 - accuracy: 0.6662\n",
            "Epoch 82/100\n",
            "50/50 [==============================] - 8s 163ms/step - loss: 0.8897 - accuracy: 0.6748\n",
            "Epoch 83/100\n",
            "50/50 [==============================] - 8s 166ms/step - loss: 0.8908 - accuracy: 0.6762\n",
            "Epoch 84/100\n",
            "50/50 [==============================] - 9s 172ms/step - loss: 0.9154 - accuracy: 0.6673\n",
            "Epoch 85/100\n",
            "50/50 [==============================] - 8s 170ms/step - loss: 0.8985 - accuracy: 0.6888\n",
            "Epoch 86/100\n",
            "50/50 [==============================] - 8s 160ms/step - loss: 0.9254 - accuracy: 0.6744\n",
            "Epoch 87/100\n",
            "50/50 [==============================] - 9s 175ms/step - loss: 0.8952 - accuracy: 0.6786\n",
            "Epoch 88/100\n",
            "50/50 [==============================] - 9s 178ms/step - loss: 0.8497 - accuracy: 0.7025\n",
            "Epoch 89/100\n",
            "50/50 [==============================] - 9s 172ms/step - loss: 0.8704 - accuracy: 0.6937\n",
            "Epoch 90/100\n",
            "50/50 [==============================] - 9s 183ms/step - loss: 0.8586 - accuracy: 0.7025\n",
            "Epoch 91/100\n",
            "50/50 [==============================] - 9s 178ms/step - loss: 0.8776 - accuracy: 0.6937\n",
            "Epoch 92/100\n",
            "50/50 [==============================] - 9s 182ms/step - loss: 0.8416 - accuracy: 0.6950\n",
            "Epoch 93/100\n",
            "50/50 [==============================] - 9s 174ms/step - loss: 0.8924 - accuracy: 0.6894\n",
            "Epoch 94/100\n",
            "50/50 [==============================] - 9s 179ms/step - loss: 0.8616 - accuracy: 0.6918\n",
            "Epoch 95/100\n",
            "50/50 [==============================] - 9s 183ms/step - loss: 0.8324 - accuracy: 0.6937\n",
            "Epoch 96/100\n",
            "50/50 [==============================] - 9s 173ms/step - loss: 0.8607 - accuracy: 0.6975\n",
            "Epoch 97/100\n",
            "50/50 [==============================] - 9s 180ms/step - loss: 0.8050 - accuracy: 0.7075\n",
            "Epoch 98/100\n",
            "50/50 [==============================] - 9s 170ms/step - loss: 0.8262 - accuracy: 0.7194\n",
            "Epoch 99/100\n",
            "50/50 [==============================] - 9s 182ms/step - loss: 0.8240 - accuracy: 0.7119\n",
            "Epoch 100/100\n",
            "50/50 [==============================] - 8s 169ms/step - loss: 0.8601 - accuracy: 0.6831\n"
          ]
        }
      ]
    },
    {
      "cell_type": "markdown",
      "source": [
        "## Save the model"
      ],
      "metadata": {
        "id": "aW4VqL-46DR9"
      }
    },
    {
      "cell_type": "code",
      "source": [
        "#Saving the model\n",
        "import h5py\n",
        "classifier.save('Trained_Model.h5')"
      ],
      "metadata": {
        "id": "1E0FAPQRwAPO"
      },
      "execution_count": 16,
      "outputs": []
    },
    {
      "cell_type": "code",
      "source": [
        "import pickle as pkl\n",
        "filename = 'Pest.sav'\n",
        "pkl.dump(model, open(filename, 'wb'))"
      ],
      "metadata": {
        "colab": {
          "base_uri": "https://localhost:8080/"
        },
        "id": "U790CK9_6KQM",
        "outputId": "18957440-3512-466c-a685-3c35064d3003"
      },
      "execution_count": 17,
      "outputs": [
        {
          "output_type": "stream",
          "name": "stdout",
          "text": [
            "INFO:tensorflow:Assets written to: ram://cbae7d0f-8471-46a0-a420-68da15e0e5f5/assets\n"
          ]
        }
      ]
    }
  ]
}